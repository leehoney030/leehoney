{
 "cells": [
  {
   "cell_type": "code",
   "execution_count": 8,
   "id": "4959ebfa",
   "metadata": {},
   "outputs": [
    {
     "data": {
      "text/plain": [
       "1"
      ]
     },
     "execution_count": 8,
     "metadata": {},
     "output_type": "execute_result"
    }
   ],
   "source": [
    "9 % 2"
   ]
  },
  {
   "cell_type": "code",
   "execution_count": 29,
   "id": "1453a7c3",
   "metadata": {},
   "outputs": [
    {
     "name": "stdout",
     "output_type": "stream",
     "text": [
      "숫자를 입력363453214\n",
      "자리수의 합은 31\n"
     ]
    }
   ],
   "source": [
    "aa = input(\"숫자를 입력\")\n",
    "aa = int(aa)\n",
    "cc = 0 \n",
    "while aa > 0 :\n",
    "    bb = aa % 10\n",
    "    cc = cc + bb\n",
    "    aa = aa // 10\n",
    "    \n",
    "print(\"자리수의 합은 %d\" %cc)    "
   ]
  },
  {
   "cell_type": "code",
   "execution_count": 33,
   "id": "fe9aa815",
   "metadata": {},
   "outputs": [
    {
     "name": "stdout",
     "output_type": "stream",
     "text": [
      "숫자를 입력4\n",
      "합은 31\n"
     ]
    }
   ],
   "source": [
    "aa = input(\"숫자를 입력\")\n",
    "aa = int(aa)\n",
    "cc = 0 ;\n",
    "\n",
    "while aa >= 0 :\n",
    "    bb = 2**aa\n",
    "    cc = cc + bb\n",
    "    aa = aa-1\n",
    "\n",
    "print(\"합은 %d\" %cc)"
   ]
  },
  {
   "cell_type": "code",
   "execution_count": 52,
   "id": "7f065825",
   "metadata": {},
   "outputs": [
    {
     "name": "stdout",
     "output_type": "stream",
     "text": [
      "aa\n"
     ]
    }
   ],
   "source": [
    "aa=0;\n",
    "while aa:\n",
    "    aa = input(\"숫자를 입력\")\n",
    "    aa = int(aa)\n",
    "    aa+=aa\n",
    "\n",
    "print(\"aa\")\n",
    "\n",
    "\n",
    "print(\" \"*(n-i), \"*\"*(2*i-1))\n",
    "\n",
    "\n",
    "\n",
    "print(\" *\"*(n-i))"
   ]
  },
  {
   "cell_type": "code",
   "execution_count": 78,
   "id": "b8cce839",
   "metadata": {
    "scrolled": true
   },
   "outputs": [
    {
     "name": "stdout",
     "output_type": "stream",
     "text": [
      "number : 4\n",
      "    *\n",
      "   ***\n",
      "  *****\n",
      " *******\n"
     ]
    }
   ],
   "source": [
    "n = int(input('number : '))\n",
    "\n",
    "for i in range(1, n+1):\n",
    "\n",
    "    print(\" \"*(n-i), \"*\"*(2*i-1))\n",
    "#공란(?)"
   ]
  },
  {
   "cell_type": "code",
   "execution_count": null,
   "id": "cf26941a",
   "metadata": {},
   "outputs": [],
   "source": [
    "print(\"hh\")"
   ]
  }
 ],
 "metadata": {
  "kernelspec": {
   "display_name": "Python 3 (ipykernel)",
   "language": "python",
   "name": "python3"
  },
  "language_info": {
   "codemirror_mode": {
    "name": "ipython",
    "version": 3
   },
   "file_extension": ".py",
   "mimetype": "text/x-python",
   "name": "python",
   "nbconvert_exporter": "python",
   "pygments_lexer": "ipython3",
   "version": "3.9.7"
  }
 },
 "nbformat": 4,
 "nbformat_minor": 5
}